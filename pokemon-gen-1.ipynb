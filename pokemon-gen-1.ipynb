{
 "cells": [
  {
   "cell_type": "code",
   "execution_count": 1,
   "metadata": {},
   "outputs": [],
   "source": [
    "from bs4 import BeautifulSoup\n",
    "import requests\n",
    "import pandas as pd\n",
    "import re"
   ]
  },
  {
   "cell_type": "code",
   "execution_count": 2,
   "metadata": {},
   "outputs": [],
   "source": [
    "respuesta = requests.get('https://pokemon.fandom.com/es/wiki/Lista_de_Pok%C3%A9mon_de_la_primera_generaci%C3%B3n')\n",
    "respuesta.status_code\n",
    "sopa = BeautifulSoup(respuesta.content, 'html.parser')"
   ]
  },
  {
   "cell_type": "code",
   "execution_count": 3,
   "metadata": {},
   "outputs": [],
   "source": [
    "lista_td = sopa.find_all('td')"
   ]
  },
  {
   "cell_type": "code",
   "execution_count": 4,
   "metadata": {},
   "outputs": [],
   "source": [
    "lista_pkmn = []\n",
    "for td in lista_td:\n",
    "    # enlace <a> dentro del elemento <td>\n",
    "    link = td.find('a', href=True)\n",
    "    \n",
    "    if link:\n",
    "        # url enlace <a>\n",
    "        href = link['href']\n",
    "        lista_pkmn.append(href)"
   ]
  },
  {
   "cell_type": "code",
   "execution_count": 5,
   "metadata": {},
   "outputs": [],
   "source": [
    "pkmn3 = []\n",
    "for linea in lista_pkmn:\n",
    "    if 'Tipo' not in linea:\n",
    "        pkmn3.append(linea)\n",
    "\n",
    "lista_pkmn3 = pkmn3[2:-4:2]"
   ]
  },
  {
   "cell_type": "code",
   "execution_count": 6,
   "metadata": {},
   "outputs": [],
   "source": [
    "gen_1 = []\n",
    "for pkmn in lista_pkmn3:\n",
    "    gen_1.append(pkmn.replace('/es/wiki/', '').capitalize().strip())"
   ]
  },
  {
   "cell_type": "code",
   "execution_count": 14,
   "metadata": {},
   "outputs": [],
   "source": [
    "primera_generacion = pd.DataFrame({'Poke_Name' : gen_1})"
   ]
  },
  {
   "cell_type": "code",
   "execution_count": 16,
   "metadata": {},
   "outputs": [],
   "source": [
    "primera_generacion.to_csv('gen_1.csv' , index=False)"
   ]
  }
 ],
 "metadata": {
  "kernelspec": {
   "display_name": "Python 3",
   "language": "python",
   "name": "python3"
  },
  "language_info": {
   "codemirror_mode": {
    "name": "ipython",
    "version": 3
   },
   "file_extension": ".py",
   "mimetype": "text/x-python",
   "name": "python",
   "nbconvert_exporter": "python",
   "pygments_lexer": "ipython3",
   "version": "3.9.7"
  }
 },
 "nbformat": 4,
 "nbformat_minor": 2
}
